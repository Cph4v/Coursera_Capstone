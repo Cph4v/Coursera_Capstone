{
 "cells": [
  {
   "cell_type": "markdown",
   "metadata": {},
   "source": [
    "<h1>Is number of bank branches more than number of restaurants in a small city of iran arak?</h1>"
   ]
  },
  {
   "cell_type": "markdown",
   "metadata": {},
   "source": [
    "<h6> Introduction/Business Problem :</h6>"
   ]
  },
  {
   "cell_type": "markdown",
   "metadata": {},
   "source": [
    "last summer when i was walking on the street i my hometown suddenly number of banks branch around me attract my attention\n",
    "somthing i had never note before...\n",
    "so take a look deeper around myself and i found unordinary number of banks in other streets too...\n",
    "i thought that how can i find real number of these banks all around this city then i decide to use map. \n",
    "<h3>i claimed that these number of banks is more than number of restaurants</h3>\n",
    "so this is unusual because number of cafes and restaurants is more than number of banks in each city of the world's countries!our country suffering a huge economical crisis and unreasonable number of banks in a small citie in this crisis can play an important role in consume valuable financial resources.so you can see how lack of management in banking system that we can see signs of that in number of unecessary bank branches in a small city like arak can influence whole economic in a country...\n",
    "<h4>i will try to prove this claim in this project by using maps and locations</h4>"
   ]
  },
  {
   "cell_type": "code",
   "execution_count": null,
   "metadata": {},
   "outputs": [],
   "source": []
  }
 ],
 "metadata": {
  "kernelspec": {
   "display_name": "Python 3",
   "language": "python",
   "name": "python3"
  },
  "language_info": {
   "codemirror_mode": {
    "name": "ipython",
    "version": 3
   },
   "file_extension": ".py",
   "mimetype": "text/x-python",
   "name": "python",
   "nbconvert_exporter": "python",
   "pygments_lexer": "ipython3",
   "version": "3.7.7"
  }
 },
 "nbformat": 4,
 "nbformat_minor": 4
}
